{
  "nbformat": 4,
  "nbformat_minor": 0,
  "metadata": {
    "colab": {
      "provenance": []
    },
    "kernelspec": {
      "name": "python3",
      "display_name": "Python 3"
    },
    "language_info": {
      "name": "python"
    }
  },
  "cells": [
    {
      "cell_type": "markdown",
      "source": [
        "# ***Hand Written Digit Prediction - Classification Analysis***"
      ],
      "metadata": {
        "id": "UwuPtXH0NtYH"
      }
    },
    {
      "cell_type": "markdown",
      "source": [
        "**The digits dataset consist of 8x8 pixel images of digits. The images attribute of the dataset stores 8x8 arrays of grayscale values for each image. We will use these arrays to visualize the first 4 images. The target attribute of the data set stores the digit each image represents**"
      ],
      "metadata": {
        "id": "xuzXh6Y8NvA0"
      }
    },
    {
      "cell_type": "markdown",
      "source": [
        "# ***Import Library***\n"
      ],
      "metadata": {
        "id": "n7odowuYJgdm"
      }
    },
    {
      "cell_type": "code",
      "execution_count": 1,
      "metadata": {
        "id": "cppX1lxrIVKH"
      },
      "outputs": [],
      "source": [
        "import pandas as pd"
      ]
    },
    {
      "cell_type": "code",
      "source": [
        "import numpy as np"
      ],
      "metadata": {
        "id": "CWGtKC_mJV7s"
      },
      "execution_count": 2,
      "outputs": []
    },
    {
      "cell_type": "code",
      "source": [
        "import matplotlib.pyplot as plt"
      ],
      "metadata": {
        "id": "nNerU8pWJZQH"
      },
      "execution_count": 3,
      "outputs": []
    },
    {
      "cell_type": "markdown",
      "source": [
        "# **Import Data**"
      ],
      "metadata": {
        "id": "4DUfyZA2G6ny"
      }
    },
    {
      "cell_type": "code",
      "source": [
        "from sklearn.datasets import load_digits"
      ],
      "metadata": {
        "id": "MvdFFdNgJdFl"
      },
      "execution_count": 4,
      "outputs": []
    },
    {
      "cell_type": "code",
      "source": [
        "df = load_digits()"
      ],
      "metadata": {
        "id": "SDhiRZg9LzO9"
      },
      "execution_count": 5,
      "outputs": []
    },
    {
      "cell_type": "code",
      "source": [
        "_, axes = plt.subplots(nrows=1,ncols=10,figsize=(13,3))\n",
        "for ax,image,lable in zip(axes,df.images,df.target):\n",
        "  ax.set_axis_off()\n",
        "  ax.imshow(image, plt.cm.gray_r,interpolation=\"nearest\")\n",
        "  ax.set_title(\"training: %s \" %lable)"
      ],
      "metadata": {
        "colab": {
          "base_uri": "https://localhost:8080/",
          "height": 144
        },
        "id": "UBlZ4NiOKyHw",
        "outputId": "3532ac42-3858-4613-e0f7-4b53b1978101"
      },
      "execution_count": 6,
      "outputs": [
        {
          "output_type": "display_data",
          "data": {
            "text/plain": [
              "<Figure size 1300x300 with 10 Axes>"
            ],
            "image/png": "[encoded data removed]"
          },
          "metadata": {}
        }
      ]
    },
    {
      "cell_type": "markdown",
      "source": [
        "# ***Data Preprocessing***"
      ],
      "metadata": {
        "id": "KTo_1VneIWwD"
      }
    },
    {
      "cell_type": "code",
      "source": [
        "df.images.shape"
      ],
      "metadata": {
        "colab": {
          "base_uri": "https://localhost:8080/"
        },
        "id": "sEkeCA2wN6vz",
        "outputId": "c3baa390-dadc-465b-f007-5b257682b258"
      },
      "execution_count": 7,
      "outputs": [
        {
          "output_type": "execute_result",
          "data": {
            "text/plain": [
              "(1797, 8, 8)"
            ]
          },
          "metadata": {},
          "execution_count": 7
        }
      ]
    },
    {
      "cell_type": "code",
      "source": [
        "df.images[0]"
      ],
      "metadata": {
        "colab": {
          "base_uri": "https://localhost:8080/"
        },
        "id": "ZUpMO5brN_fE",
        "outputId": "e13ad7aa-ebd9-43f2-9160-2335dbf44cce"
      },
      "execution_count": 8,
      "outputs": [
        {
          "output_type": "execute_result",
          "data": {
            "text/plain": [
              "array([[ 0.,  0.,  5., 13.,  9.,  1.,  0.,  0.],\n",
              "       [ 0.,  0., 13., 15., 10., 15.,  5.,  0.],\n",
              "       [ 0.,  3., 15.,  2.,  0., 11.,  8.,  0.],\n",
              "       [ 0.,  4., 12.,  0.,  0.,  8.,  8.,  0.],\n",
              "       [ 0.,  5.,  8.,  0.,  0.,  9.,  8.,  0.],\n",
              "       [ 0.,  4., 11.,  0.,  1., 12.,  7.,  0.],\n",
              "       [ 0.,  2., 14.,  5., 10., 12.,  0.,  0.],\n",
              "       [ 0.,  0.,  6., 13., 10.,  0.,  0.,  0.]])"
            ]
          },
          "metadata": {},
          "execution_count": 8
        }
      ]
    },
    {
      "cell_type": "code",
      "source": [
        "df.images[0].shape"
      ],
      "metadata": {
        "colab": {
          "base_uri": "https://localhost:8080/"
        },
        "id": "f_7RGkbjOE9E",
        "outputId": "054ae7b7-cb08-4649-d37f-5ed034b682f5"
      },
      "execution_count": 9,
      "outputs": [
        {
          "output_type": "execute_result",
          "data": {
            "text/plain": [
              "(8, 8)"
            ]
          },
          "metadata": {},
          "execution_count": 9
        }
      ]
    },
    {
      "cell_type": "code",
      "source": [
        "len(df.images)"
      ],
      "metadata": {
        "colab": {
          "base_uri": "https://localhost:8080/"
        },
        "id": "Ipc-kgZkOJYn",
        "outputId": "c65e4547-7857-4dc3-e05b-a6228c6fd85d"
      },
      "execution_count": 10,
      "outputs": [
        {
          "output_type": "execute_result",
          "data": {
            "text/plain": [
              "1797"
            ]
          },
          "metadata": {},
          "execution_count": 10
        }
      ]
    },
    {
      "cell_type": "code",
      "source": [
        "n_samples=len(df.images)\n",
        "data = df.images.reshape((n_samples, -1))"
      ],
      "metadata": {
        "id": "tuO72gSdOMlC"
      },
      "execution_count": 11,
      "outputs": []
    },
    {
      "cell_type": "code",
      "source": [
        "data[0]"
      ],
      "metadata": {
        "colab": {
          "base_uri": "https://localhost:8080/"
        },
        "id": "0w_4lDw8Lotq",
        "outputId": "aa250f8d-91ab-4959-d520-8c94082d5c4c"
      },
      "execution_count": 12,
      "outputs": [
        {
          "output_type": "execute_result",
          "data": {
            "text/plain": [
              "array([ 0.,  0.,  5., 13.,  9.,  1.,  0.,  0.,  0.,  0., 13., 15., 10.,\n",
              "       15.,  5.,  0.,  0.,  3., 15.,  2.,  0., 11.,  8.,  0.,  0.,  4.,\n",
              "       12.,  0.,  0.,  8.,  8.,  0.,  0.,  5.,  8.,  0.,  0.,  9.,  8.,\n",
              "        0.,  0.,  4., 11.,  0.,  1., 12.,  7.,  0.,  0.,  2., 14.,  5.,\n",
              "       10., 12.,  0.,  0.,  0.,  0.,  6., 13., 10.,  0.,  0.,  0.])"
            ]
          },
          "metadata": {},
          "execution_count": 12
        }
      ]
    },
    {
      "cell_type": "code",
      "source": [
        "data[0].shape"
      ],
      "metadata": {
        "colab": {
          "base_uri": "https://localhost:8080/"
        },
        "id": "VbmrcuYLOcuf",
        "outputId": "419d2aae-4655-42df-8803-7b9fdbd8ba36"
      },
      "execution_count": 13,
      "outputs": [
        {
          "output_type": "execute_result",
          "data": {
            "text/plain": [
              "(64,)"
            ]
          },
          "metadata": {},
          "execution_count": 13
        }
      ]
    },
    {
      "cell_type": "code",
      "source": [
        "data.shape"
      ],
      "metadata": {
        "colab": {
          "base_uri": "https://localhost:8080/"
        },
        "id": "2m3Qmd-2OfuQ",
        "outputId": "4c6e04e7-50fa-4700-f791-8d5ee78cd956"
      },
      "execution_count": 14,
      "outputs": [
        {
          "output_type": "execute_result",
          "data": {
            "text/plain": [
              "(1797, 64)"
            ]
          },
          "metadata": {},
          "execution_count": 14
        }
      ]
    },
    {
      "cell_type": "markdown",
      "source": [
        "# ***Scaling Image Data***"
      ],
      "metadata": {
        "id": "SgELkVJrJNo_"
      }
    },
    {
      "cell_type": "code",
      "source": [
        "data.min()"
      ],
      "metadata": {
        "colab": {
          "base_uri": "https://localhost:8080/"
        },
        "id": "6qKfI2TqOh76",
        "outputId": "60b6da11-0538-4620-d6a2-6f8c906bf7f6"
      },
      "execution_count": 15,
      "outputs": [
        {
          "output_type": "execute_result",
          "data": {
            "text/plain": [
              "0.0"
            ]
          },
          "metadata": {},
          "execution_count": 15
        }
      ]
    },
    {
      "cell_type": "code",
      "source": [
        "data.max()"
      ],
      "metadata": {
        "colab": {
          "base_uri": "https://localhost:8080/"
        },
        "id": "qMudcoH5O6DL",
        "outputId": "97006ac5-4edf-4a89-839c-53fedefbc38e"
      },
      "execution_count": 16,
      "outputs": [
        {
          "output_type": "execute_result",
          "data": {
            "text/plain": [
              "16.0"
            ]
          },
          "metadata": {},
          "execution_count": 16
        }
      ]
    },
    {
      "cell_type": "code",
      "source": [
        "data = data/16"
      ],
      "metadata": {
        "id": "njDECFstO_J1"
      },
      "execution_count": 17,
      "outputs": []
    },
    {
      "cell_type": "code",
      "source": [
        "data.min()"
      ],
      "metadata": {
        "colab": {
          "base_uri": "https://localhost:8080/"
        },
        "id": "00Qf3uxQPCZC",
        "outputId": "7381f4be-2abc-4907-c265-fd302073fadb"
      },
      "execution_count": 18,
      "outputs": [
        {
          "output_type": "execute_result",
          "data": {
            "text/plain": [
              "0.0"
            ]
          },
          "metadata": {},
          "execution_count": 18
        }
      ]
    },
    {
      "cell_type": "code",
      "source": [
        "data.max()"
      ],
      "metadata": {
        "colab": {
          "base_uri": "https://localhost:8080/"
        },
        "id": "PHNUtnoXPFON",
        "outputId": "264ebc82-2d78-4dc8-bbe2-d7281c902082"
      },
      "execution_count": 19,
      "outputs": [
        {
          "output_type": "execute_result",
          "data": {
            "text/plain": [
              "1.0"
            ]
          },
          "metadata": {},
          "execution_count": 19
        }
      ]
    },
    {
      "cell_type": "code",
      "source": [
        "data[0]"
      ],
      "metadata": {
        "colab": {
          "base_uri": "https://localhost:8080/"
        },
        "id": "rC-TQ3R-PJqI",
        "outputId": "e3ea0dc8-56fd-4364-cd83-cf4e1915c19c"
      },
      "execution_count": 20,
      "outputs": [
        {
          "output_type": "execute_result",
          "data": {
            "text/plain": [
              "array([0.    , 0.    , 0.3125, 0.8125, 0.5625, 0.0625, 0.    , 0.    ,\n",
              "       0.    , 0.    , 0.8125, 0.9375, 0.625 , 0.9375, 0.3125, 0.    ,\n",
              "       0.    , 0.1875, 0.9375, 0.125 , 0.    , 0.6875, 0.5   , 0.    ,\n",
              "       0.    , 0.25  , 0.75  , 0.    , 0.    , 0.5   , 0.5   , 0.    ,\n",
              "       0.    , 0.3125, 0.5   , 0.    , 0.    , 0.5625, 0.5   , 0.    ,\n",
              "       0.    , 0.25  , 0.6875, 0.    , 0.0625, 0.75  , 0.4375, 0.    ,\n",
              "       0.    , 0.125 , 0.875 , 0.3125, 0.625 , 0.75  , 0.    , 0.    ,\n",
              "       0.    , 0.    , 0.375 , 0.8125, 0.625 , 0.    , 0.    , 0.    ])"
            ]
          },
          "metadata": {},
          "execution_count": 20
        }
      ]
    },
    {
      "cell_type": "markdown",
      "source": [
        "# ***Train Test Split Data***"
      ],
      "metadata": {
        "id": "xy31Sj1NJ3Kk"
      }
    },
    {
      "cell_type": "code",
      "source": [
        "from sklearn.model_selection import train_test_split"
      ],
      "metadata": {
        "id": "1OIoyMmWPlG3"
      },
      "execution_count": 21,
      "outputs": []
    },
    {
      "cell_type": "code",
      "source": [
        "x_train,x_test, y_train,y_test = train_test_split(data,df.target,test_size=0.3)"
      ],
      "metadata": {
        "id": "DYQPxlD6P0i8"
      },
      "execution_count": 22,
      "outputs": []
    },
    {
      "cell_type": "code",
      "source": [
        "x_train.shape,x_test.shape, y_train.shape,y_test.shape"
      ],
      "metadata": {
        "colab": {
          "base_uri": "https://localhost:8080/"
        },
        "id": "fDntIeGRQYFf",
        "outputId": "f4765560-e29e-4db2-b596-797de966c879"
      },
      "execution_count": 23,
      "outputs": [
        {
          "output_type": "execute_result",
          "data": {
            "text/plain": [
              "((1257, 64), (540, 64), (1257,), (540,))"
            ]
          },
          "metadata": {},
          "execution_count": 23
        }
      ]
    },
    {
      "cell_type": "markdown",
      "source": [
        "# ***Random Forest Model***"
      ],
      "metadata": {
        "id": "hpwiOREZKCaV"
      }
    },
    {
      "cell_type": "code",
      "source": [
        "from sklearn.ensemble import RandomForestClassifier"
      ],
      "metadata": {
        "id": "WNXhqW03QuWC"
      },
      "execution_count": 24,
      "outputs": []
    },
    {
      "cell_type": "code",
      "source": [
        "rf = RandomForestClassifier()"
      ],
      "metadata": {
        "id": "_BQggBP9Q4jb"
      },
      "execution_count": 25,
      "outputs": []
    },
    {
      "cell_type": "code",
      "source": [
        "rf.fit(x_train,y_train)"
      ],
      "metadata": {
        "colab": {
          "base_uri": "https://localhost:8080/",
          "height": 75
        },
        "id": "TdS7A_PNQ_UM",
        "outputId": "eeab6249-6236-421a-a044-ca2c866f540a"
      },
      "execution_count": 26,
      "outputs": [
        {
          "output_type": "execute_result",
          "data": {
            "text/plain": [
              "RandomForestClassifier()"
            ],
            "text/html": [
              "<style>#sk-container-id-1 {color: black;background-color: white;}#sk-container-id-1 pre{padding: 0;}#sk-container-id-1 div.sk-toggleable {background-color: white;}#sk-container-id-1 label.sk-toggleable__label {cursor: pointer;display: block;width: 100%;margin-bottom: 0;padding: 0.3em;box-sizing: border-box;text-align: center;}#sk-container-id-1 label.sk-toggleable__label-arrow:before {content: \"▸\";float: left;margin-right: 0.25em;color: #696969;}#sk-container-id-1 label.sk-toggleable__label-arrow:hover:before {color: black;}#sk-container-id-1 div.sk-estimator:hover label.sk-toggleable__label-arrow:before {color: black;}#sk-container-id-1 div.sk-toggleable__content {max-height: 0;max-width: 0;overflow: hidden;text-align: left;background-color: #f0f8ff;}#sk-container-id-1 div.sk-toggleable__content pre {margin: 0.2em;color: black;border-radius: 0.25em;background-color: #f0f8ff;}#sk-container-id-1 input.sk-toggleable__control:checked~div.sk-toggleable__content {max-height: 200px;max-width: 100%;overflow: auto;}#sk-container-id-1 input.sk-toggleable__control:checked~label.sk-toggleable__label-arrow:before {content: \"▾\";}#sk-container-id-1 div.sk-estimator input.sk-toggleable__control:checked~label.sk-toggleable__label {background-color: #d4ebff;}#sk-container-id-1 div.sk-label input.sk-toggleable__control:checked~label.sk-toggleable__label {background-color: #d4ebff;}#sk-container-id-1 input.sk-hidden--visually {border: 0;clip: rect(1px 1px 1px 1px);clip: rect(1px, 1px, 1px, 1px);height: 1px;margin: -1px;overflow: hidden;padding: 0;position: absolute;width: 1px;}#sk-container-id-1 div.sk-estimator {font-family: monospace;background-color: #f0f8ff;border: 1px dotted black;border-radius: 0.25em;box-sizing: border-box;margin-bottom: 0.5em;}#sk-container-id-1 div.sk-estimator:hover {background-color: #d4ebff;}#sk-container-id-1 div.sk-parallel-item::after {content: \"\";width: 100%;border-bottom: 1px solid gray;flex-grow: 1;}#sk-container-id-1 div.sk-label:hover label.sk-toggleable__label {background-color: #d4ebff;}#sk-container-id-1 div.sk-serial::before {content: \"\";position: absolute;border-left: 1px solid gray;box-sizing: border-box;top: 0;bottom: 0;left: 50%;z-index: 0;}#sk-container-id-1 div.sk-serial {display: flex;flex-direction: column;align-items: center;background-color: white;padding-right: 0.2em;padding-left: 0.2em;position: relative;}#sk-container-id-1 div.sk-item {position: relative;z-index: 1;}#sk-container-id-1 div.sk-parallel {display: flex;align-items: stretch;justify-content: center;background-color: white;position: relative;}#sk-container-id-1 div.sk-item::before, #sk-container-id-1 div.sk-parallel-item::before {content: \"\";position: absolute;border-left: 1px solid gray;box-sizing: border-box;top: 0;bottom: 0;left: 50%;z-index: -1;}#sk-container-id-1 div.sk-parallel-item {display: flex;flex-direction: column;z-index: 1;position: relative;background-color: white;}#sk-container-id-1 div.sk-parallel-item:first-child::after {align-self: flex-end;width: 50%;}#sk-container-id-1 div.sk-parallel-item:last-child::after {align-self: flex-start;width: 50%;}#sk-container-id-1 div.sk-parallel-item:only-child::after {width: 0;}#sk-container-id-1 div.sk-dashed-wrapped {border: 1px dashed gray;margin: 0 0.4em 0.5em 0.4em;box-sizing: border-box;padding-bottom: 0.4em;background-color: white;}#sk-container-id-1 div.sk-label label {font-family: monospace;font-weight: bold;display: inline-block;line-height: 1.2em;}#sk-container-id-1 div.sk-label-container {text-align: center;}#sk-container-id-1 div.sk-container {/* jupyter's `normalize.less` sets `[hidden] { display: none; }` but bootstrap.min.css set `[hidden] { display: none !important; }` so we also need the `!important` here to be able to override the default hidden behavior on the sphinx rendered scikit-learn.org. See: https://github.com/scikit-learn/scikit-learn/issues/21755 */display: inline-block !important;position: relative;}#sk-container-id-1 div.sk-text-repr-fallback {display: none;}</style><div id=\"sk-container-id-1\" class=\"sk-top-container\"><div class=\"sk-text-repr-fallback\"><pre>RandomForestClassifier()</pre><b>In a Jupyter environment, please rerun this cell to show the HTML representation or trust the notebook. <br />On GitHub, the HTML representation is unable to render, please try loading this page with nbviewer.org.</b></div><div class=\"sk-container\" hidden><div class=\"sk-item\"><div class=\"sk-estimator sk-toggleable\"><input class=\"sk-toggleable__control sk-hidden--visually\" id=\"sk-estimator-id-1\" type=\"checkbox\" checked><label for=\"sk-estimator-id-1\" class=\"sk-toggleable__label sk-toggleable__label-arrow\">RandomForestClassifier</label><div class=\"sk-toggleable__content\"><pre>RandomForestClassifier()</pre></div></div></div></div></div>"
            ]
          },
          "metadata": {},
          "execution_count": 26
        }
      ]
    },
    {
      "cell_type": "markdown",
      "source": [
        "# ***Predict Test Data***"
      ],
      "metadata": {
        "id": "b3LMgfNeKKU7"
      }
    },
    {
      "cell_type": "code",
      "source": [
        "y_pred = rf.predict(x_test)"
      ],
      "metadata": {
        "id": "c7Ei-5OvRGxv"
      },
      "execution_count": 27,
      "outputs": []
    },
    {
      "cell_type": "code",
      "source": [
        "y_pred"
      ],
      "metadata": {
        "colab": {
          "base_uri": "https://localhost:8080/"
        },
        "id": "xaXOteDuRWss",
        "outputId": "7953c376-963c-4486-aed3-3a2d7f4b57ae"
      },
      "execution_count": 28,
      "outputs": [
        {
          "output_type": "execute_result",
          "data": {
            "text/plain": [
              "array([6, 4, 2, 0, 3, 5, 3, 2, 7, 9, 0, 0, 2, 0, 2, 6, 5, 7, 0, 8, 5, 5,\n",
              "       2, 1, 5, 4, 2, 0, 0, 3, 8, 4, 6, 8, 5, 1, 0, 1, 5, 7, 6, 2, 2, 2,\n",
              "       4, 1, 3, 3, 1, 1, 5, 9, 2, 8, 3, 6, 9, 8, 4, 5, 7, 3, 7, 2, 8, 1,\n",
              "       2, 9, 8, 9, 5, 7, 0, 1, 4, 4, 0, 0, 3, 1, 6, 4, 1, 2, 8, 0, 3, 7,\n",
              "       4, 0, 5, 2, 6, 8, 3, 2, 9, 2, 0, 2, 3, 1, 2, 0, 2, 2, 8, 5, 8, 0,\n",
              "       3, 4, 1, 8, 2, 0, 5, 7, 0, 7, 1, 6, 4, 2, 3, 4, 6, 0, 7, 1, 2, 2,\n",
              "       8, 3, 9, 8, 9, 5, 4, 1, 3, 4, 7, 1, 4, 8, 7, 4, 4, 9, 6, 8, 3, 6,\n",
              "       3, 4, 8, 8, 4, 6, 8, 1, 2, 7, 2, 1, 9, 6, 7, 5, 0, 0, 4, 9, 1, 0,\n",
              "       7, 3, 3, 3, 5, 4, 4, 5, 5, 8, 8, 1, 7, 1, 1, 7, 0, 3, 4, 9, 4, 6,\n",
              "       9, 3, 6, 2, 1, 8, 4, 6, 3, 8, 0, 5, 9, 2, 8, 0, 7, 8, 4, 8, 2, 9,\n",
              "       2, 4, 8, 5, 9, 1, 0, 6, 7, 6, 1, 4, 4, 1, 9, 1, 2, 0, 0, 2, 5, 4,\n",
              "       2, 5, 2, 1, 0, 6, 9, 8, 1, 9, 5, 1, 4, 2, 0, 0, 7, 2, 4, 2, 2, 7,\n",
              "       8, 8, 3, 4, 0, 0, 2, 2, 5, 6, 3, 8, 6, 6, 7, 8, 5, 1, 5, 7, 1, 3,\n",
              "       2, 1, 5, 3, 3, 4, 8, 6, 3, 7, 2, 9, 5, 4, 1, 7, 7, 7, 6, 3, 3, 9,\n",
              "       1, 6, 5, 9, 0, 9, 6, 3, 5, 6, 0, 3, 6, 0, 8, 6, 4, 5, 8, 5, 9, 5,\n",
              "       7, 1, 1, 7, 6, 4, 7, 4, 4, 4, 8, 1, 7, 8, 2, 6, 5, 5, 0, 6, 5, 5,\n",
              "       0, 4, 8, 4, 4, 1, 4, 2, 7, 6, 0, 5, 8, 7, 0, 7, 5, 4, 6, 0, 0, 1,\n",
              "       5, 9, 6, 2, 4, 2, 8, 6, 9, 5, 2, 3, 4, 5, 1, 8, 5, 8, 6, 1, 2, 4,\n",
              "       1, 1, 0, 3, 4, 4, 8, 2, 2, 7, 8, 6, 1, 7, 9, 7, 2, 0, 1, 0, 2, 4,\n",
              "       7, 6, 4, 6, 7, 2, 3, 8, 7, 1, 0, 9, 6, 8, 6, 7, 2, 8, 7, 0, 3, 1,\n",
              "       1, 5, 5, 1, 2, 0, 5, 5, 7, 7, 3, 0, 1, 0, 5, 2, 9, 9, 2, 5, 1, 5,\n",
              "       6, 9, 7, 2, 3, 2, 5, 2, 2, 7, 6, 0, 6, 0, 6, 5, 5, 0, 6, 8, 9, 5,\n",
              "       6, 9, 6, 4, 5, 2, 1, 8, 9, 3, 0, 1, 0, 7, 5, 9, 6, 9, 5, 0, 7, 1,\n",
              "       4, 0, 1, 9, 0, 3, 0, 3, 3, 8, 9, 4, 2, 2, 4, 6, 4, 2, 4, 9, 7, 3,\n",
              "       7, 6, 3, 6, 7, 6, 1, 0, 4, 7, 9, 8])"
            ]
          },
          "metadata": {},
          "execution_count": 28
        }
      ]
    },
    {
      "cell_type": "markdown",
      "source": [
        "# ***Model Accuracy***"
      ],
      "metadata": {
        "id": "i1sOxBMuNTXC"
      }
    },
    {
      "cell_type": "code",
      "source": [
        "from sklearn.metrics import confusion_matrix, classification_report"
      ],
      "metadata": {
        "id": "bzrlBIVTRayd"
      },
      "execution_count": 29,
      "outputs": []
    },
    {
      "cell_type": "code",
      "source": [
        "confusion_matrix(y_test,y_pred)"
      ],
      "metadata": {
        "colab": {
          "base_uri": "https://localhost:8080/"
        },
        "id": "8eA-hyAsRz1t",
        "outputId": "b9a5f482-5285-406f-9099-c4a44d36171a"
      },
      "execution_count": 30,
      "outputs": [
        {
          "output_type": "execute_result",
          "data": {
            "text/plain": [
              "array([[59,  0,  0,  0,  0,  0,  0,  0,  0,  0],\n",
              "       [ 0, 56,  0,  0,  0,  0,  0,  0,  0,  0],\n",
              "       [ 0,  0, 65,  0,  0,  0,  0,  0,  0,  0],\n",
              "       [ 0,  0,  0, 44,  0,  1,  0,  1,  0,  0],\n",
              "       [ 0,  0,  0,  0, 58,  0,  0,  0,  0,  0],\n",
              "       [ 0,  0,  0,  0,  1, 54,  0,  0,  1,  0],\n",
              "       [ 1,  0,  0,  0,  0,  0, 54,  0,  0,  0],\n",
              "       [ 0,  0,  0,  0,  0,  0,  0, 51,  0,  0],\n",
              "       [ 0,  1,  0,  0,  0,  0,  0,  0, 48,  1],\n",
              "       [ 0,  0,  0,  1,  0,  2,  0,  0,  2, 39]])"
            ]
          },
          "metadata": {},
          "execution_count": 30
        }
      ]
    },
    {
      "cell_type": "code",
      "source": [
        "print(classification_report(y_test,y_pred))"
      ],
      "metadata": {
        "colab": {
          "base_uri": "https://localhost:8080/"
        },
        "id": "FEGS7KvkR9nX",
        "outputId": "aac6e931-3f1c-4eb9-902a-734434d8bcef"
      },
      "execution_count": 31,
      "outputs": [
        {
          "output_type": "stream",
          "name": "stdout",
          "text": [
            "              precision    recall  f1-score   support\n",
            "\n",
            "           0       0.98      1.00      0.99        59\n",
            "           1       0.98      1.00      0.99        56\n",
            "           2       1.00      1.00      1.00        65\n",
            "           3       0.98      0.96      0.97        46\n",
            "           4       0.98      1.00      0.99        58\n",
            "           5       0.95      0.96      0.96        56\n",
            "           6       1.00      0.98      0.99        55\n",
            "           7       0.98      1.00      0.99        51\n",
            "           8       0.94      0.96      0.95        50\n",
            "           9       0.97      0.89      0.93        44\n",
            "\n",
            "    accuracy                           0.98       540\n",
            "   macro avg       0.98      0.97      0.98       540\n",
            "weighted avg       0.98      0.98      0.98       540\n",
            "\n"
          ]
        }
      ]
    }
  ]
}